{
  "nbformat": 4,
  "nbformat_minor": 0,
  "metadata": {
    "colab": {
      "name": "Maskdetection.ipynb",
      "provenance": []
    },
    "kernelspec": {
      "name": "python3",
      "display_name": "Python 3"
    },
    "accelerator": "GPU"
  },
  "cells": [
    {
      "cell_type": "code",
      "metadata": {
        "id": "pIUvcrLn3Ml_",
        "colab_type": "code",
        "colab": {}
      },
      "source": [
        "from google.colab.patches import cv2_imshow\n",
        "import numpy as np\n",
        "import cv2"
      ],
      "execution_count": 1,
      "outputs": []
    },
    {
      "cell_type": "code",
      "metadata": {
        "id": "Js4RUReCnkAG",
        "colab_type": "code",
        "colab": {
          "base_uri": "https://localhost:8080/",
          "height": 357
        },
        "outputId": "33078719-6687-423c-8c46-097ef14bc2c6"
      },
      "source": [
        "!nvidia-smi"
      ],
      "execution_count": 2,
      "outputs": [
        {
          "output_type": "stream",
          "text": [
            "Sat Jul 25 20:00:01 2020       \n",
            "+-----------------------------------------------------------------------------+\n",
            "| NVIDIA-SMI 450.51.05    Driver Version: 418.67       CUDA Version: 10.1     |\n",
            "|-------------------------------+----------------------+----------------------+\n",
            "| GPU  Name        Persistence-M| Bus-Id        Disp.A | Volatile Uncorr. ECC |\n",
            "| Fan  Temp  Perf  Pwr:Usage/Cap|         Memory-Usage | GPU-Util  Compute M. |\n",
            "|                               |                      |               MIG M. |\n",
            "|===============================+======================+======================|\n",
            "|   0  Tesla K80           Off  | 00000000:00:04.0 Off |                    0 |\n",
            "| N/A   34C    P8    26W / 149W |      0MiB / 11441MiB |      0%      Default |\n",
            "|                               |                      |                 ERR! |\n",
            "+-------------------------------+----------------------+----------------------+\n",
            "                                                                               \n",
            "+-----------------------------------------------------------------------------+\n",
            "| Processes:                                                                  |\n",
            "|  GPU   GI   CI        PID   Type   Process name                  GPU Memory |\n",
            "|        ID   ID                                                   Usage      |\n",
            "|=============================================================================|\n",
            "|  No running processes found                                                 |\n",
            "+-----------------------------------------------------------------------------+\n"
          ],
          "name": "stdout"
        }
      ]
    },
    {
      "cell_type": "code",
      "metadata": {
        "id": "DyK6qLSXFd3V",
        "colab_type": "code",
        "colab": {
          "base_uri": "https://localhost:8080/",
          "height": 153
        },
        "outputId": "68cb16ec-165b-4231-c255-f37167c423ca"
      },
      "source": [
        "!git clone https://github.com/chandrikadeb7/Face-Mask-Detection.git\n"
      ],
      "execution_count": 4,
      "outputs": [
        {
          "output_type": "stream",
          "text": [
            "Cloning into 'Face-Mask-Detection'...\n",
            "remote: Enumerating objects: 7, done.\u001b[K\n",
            "remote: Counting objects: 100% (7/7), done.\u001b[K\n",
            "remote: Compressing objects: 100% (5/5), done.\u001b[K\n",
            "remote: Total 3860 (delta 1), reused 4 (delta 1), pack-reused 3853\u001b[K\n",
            "Receiving objects: 100% (3860/3860), 148.01 MiB | 12.23 MiB/s, done.\n",
            "Resolving deltas: 100% (43/43), done.\n",
            "Checking out files: 100% (3864/3864), done.\n"
          ],
          "name": "stdout"
        }
      ]
    },
    {
      "cell_type": "code",
      "metadata": {
        "id": "NMRNIfwsjFR7",
        "colab_type": "code",
        "colab": {
          "base_uri": "https://localhost:8080/",
          "height": 136
        },
        "outputId": "22a6ce6a-713e-471e-9edb-ba9f9facfffc"
      },
      "source": [
        "!git clone https://github.com/prajnasb/observations.git"
      ],
      "execution_count": 3,
      "outputs": [
        {
          "output_type": "stream",
          "text": [
            "Cloning into 'observations'...\n",
            "remote: Enumerating objects: 34, done.\u001b[K\n",
            "remote: Counting objects: 100% (34/34), done.\u001b[K\n",
            "remote: Compressing objects: 100% (33/33), done.\u001b[K\n",
            "remote: Total 1638 (delta 9), reused 0 (delta 0), pack-reused 1604\u001b[K\n",
            "Receiving objects: 100% (1638/1638), 75.94 MiB | 12.24 MiB/s, done.\n",
            "Resolving deltas: 100% (20/20), done.\n"
          ],
          "name": "stdout"
        }
      ]
    },
    {
      "cell_type": "code",
      "metadata": {
        "id": "BR7oeQlok1a6",
        "colab_type": "code",
        "colab": {
          "base_uri": "https://localhost:8080/",
          "height": 34
        },
        "outputId": "42403c1d-1fad-4d15-e19b-026ba2d0d8bd"
      },
      "source": [
        "from csv import writer\n",
        "from imutils import paths\n",
        "import imutils\n",
        "import pandas as pd\n",
        "from sklearn.utils import shuffle\n",
        "from keras.models import Sequential\n",
        "from keras.layers import Dense,Activation,Flatten,Dropout\n",
        "from keras.layers import Conv2D,MaxPooling2D\n",
        "import sklearn\n",
        "from sklearn.model_selection import train_test_split\n",
        "from keras.callbacks import ModelCheckpoint"
      ],
      "execution_count": 5,
      "outputs": [
        {
          "output_type": "stream",
          "text": [
            "Using TensorFlow backend.\n"
          ],
          "name": "stderr"
        }
      ]
    },
    {
      "cell_type": "code",
      "metadata": {
        "id": "f9B67QGCoI3_",
        "colab_type": "code",
        "colab": {}
      },
      "source": [
        "def resize_to_fit(image, width, height):\n",
        "    \"\"\"\n",
        "    A helper function to resize an image to fit within a given size\n",
        "    :param image: image to resize\n",
        "    :param width: desired width in pixels\n",
        "    :param height: desired height in pixels\n",
        "    :return: the resized image\n",
        "    \"\"\"\n",
        "\n",
        "    # grab the dimensions of the image, then initialize\n",
        "    # the padding values\n",
        "    (h, w) = image.shape[:2]\n",
        "\n",
        "    # if the width is greater than the height then resize along\n",
        "    # the width\n",
        "    if w > h:\n",
        "        image = imutils.resize(image, width=width)\n",
        "\n",
        "    # otherwise, the height is greater than the width so resize\n",
        "    # along the height\n",
        "    else:\n",
        "        image = imutils.resize(image, height=height)\n",
        "\n",
        "    # determine the padding values for the width and height to\n",
        "    # obtain the target dimensions\n",
        "    padW = int((width - image.shape[1]) / 2.0)\n",
        "    padH = int((height - image.shape[0]) / 2.0)\n",
        "\n",
        "    # pad the image then apply one more resizing to handle any\n",
        "    # rounding issues\n",
        "    image = cv2.copyMakeBorder(image, padH, padH, padW, padW,\n",
        "        cv2.BORDER_REPLICATE)\n",
        "    image = cv2.resize(image, (width, height))\n",
        "\n",
        "    # return the pre-processed image\n",
        "    return image"
      ],
      "execution_count": 6,
      "outputs": []
    },
    {
      "cell_type": "code",
      "metadata": {
        "id": "cw3dHg4Gk-GZ",
        "colab_type": "code",
        "colab": {}
      },
      "source": [
        "def append_list_as_row(file_name, list_of_elem):\n",
        "    # Open file in append mode\n",
        "    with open(file_name, 'a+', newline='') as write_obj:\n",
        "        # Create a writer object from csv module\n",
        "        csv_writer = writer(write_obj)\n",
        "        # Add contents of list as last row in the csv file\n",
        "        csv_writer.writerow(list_of_elem)"
      ],
      "execution_count": 7,
      "outputs": []
    },
    {
      "cell_type": "code",
      "metadata": {
        "id": "3Z1HHeawk_1L",
        "colab_type": "code",
        "colab": {}
      },
      "source": [
        "LETTER_IMAGES_FOLDER0 = \"with_mask\"\n",
        "LETTER_IMAGES_FOLDER1 = \"without_mask\"\n",
        "LETTER_IMAGES_FOLDER2 = 'wmask'\n",
        "LETTER_IMAGES_FOLDER3 = 'woutmask'\n",
        "row_content0 = [1,0]\n",
        "row_content1 = [0,1]"
      ],
      "execution_count": 9,
      "outputs": []
    },
    {
      "cell_type": "code",
      "metadata": {
        "id": "RdSVD8r-lH_6",
        "colab_type": "code",
        "colab": {}
      },
      "source": [
        "for image_file in paths.list_images(LETTER_IMAGES_FOLDER0):\n",
        "    append_list_as_row('Finalmaskdetection.csv', row_content0)\n",
        "\n",
        "for image_file in paths.list_images(LETTER_IMAGES_FOLDER1):\n",
        "    append_list_as_row('Finalmaskdetection.csv', row_content1)\n",
        "\n",
        "for image_file in paths.list_images(LETTER_IMAGES_FOLDER2):\n",
        "    append_list_as_row('Finalmaskdetection.csv', row_content0)\n",
        "\n",
        "for image_file in paths.list_images(LETTER_IMAGES_FOLDER3):\n",
        "    append_list_as_row('Finalmaskdetection.csv', row_content1)  "
      ],
      "execution_count": 10,
      "outputs": []
    },
    {
      "cell_type": "code",
      "metadata": {
        "id": "fn6gvDFelfgr",
        "colab_type": "code",
        "colab": {}
      },
      "source": [
        "images = []\n",
        "for image_file in paths.list_images(LETTER_IMAGES_FOLDER0):\n",
        "    image = cv2.imread(image_file)\n",
        "    rgbimage = cv2.cvtColor(image, cv2.COLOR_BGR2RGB)\n",
        "    resized=resize_to_fit(rgbimage,120,120)\n",
        "    images.append(resized/255.0)\n",
        "for image_file in paths.list_images(LETTER_IMAGES_FOLDER1):\n",
        "    image = cv2.imread(image_file) \n",
        "    rgbimage = cv2.cvtColor(image, cv2.COLOR_BGR2RGB)  \n",
        "    resized=resize_to_fit(rgbimage,120,120)\n",
        "    images.append(resized/255.0)\n",
        "for image_file in paths.list_images(LETTER_IMAGES_FOLDER2):\n",
        "    image = cv2.imread(image_file)\n",
        "    rgbimage = cv2.cvtColor(image, cv2.COLOR_BGR2RGB)\n",
        "    resized=resize_to_fit(rgbimage,120,120)\n",
        "    images.append(resized/255.0)\n",
        "for image_file in paths.list_images(LETTER_IMAGES_FOLDER3):\n",
        "    image = cv2.imread(image_file)\n",
        "    rgbimage = cv2.cvtColor(image, cv2.COLOR_BGR2RGB)\n",
        "    resized=resize_to_fit(rgbimage,120,120)\n",
        "    images.append(resized/255.0)"
      ],
      "execution_count": 11,
      "outputs": []
    },
    {
      "cell_type": "code",
      "metadata": {
        "id": "1oqGjd06oMKV",
        "colab_type": "code",
        "colab": {
          "base_uri": "https://localhost:8080/",
          "height": 34
        },
        "outputId": "af1a817c-c8f6-4c97-ce8d-7d61c61b4068"
      },
      "source": [
        "images = np.array(images)\n",
        "images.shape"
      ],
      "execution_count": 12,
      "outputs": [
        {
          "output_type": "execute_result",
          "data": {
            "text/plain": [
              "(5222, 120, 120, 3)"
            ]
          },
          "metadata": {
            "tags": []
          },
          "execution_count": 12
        }
      ]
    },
    {
      "cell_type": "code",
      "metadata": {
        "id": "V1B2DmwGoZX9",
        "colab_type": "code",
        "colab": {
          "base_uri": "https://localhost:8080/",
          "height": 34
        },
        "outputId": "a2456abd-55ce-40cf-d1f3-564a45c89d9a"
      },
      "source": [
        "data = pd.read_csv('bestmask.csv')\n",
        "labels = np.array(data)\n",
        "labels.shape"
      ],
      "execution_count": 14,
      "outputs": [
        {
          "output_type": "execute_result",
          "data": {
            "text/plain": [
              "(5222, 2)"
            ]
          },
          "metadata": {
            "tags": []
          },
          "execution_count": 14
        }
      ]
    },
    {
      "cell_type": "code",
      "metadata": {
        "id": "8QcYX4a0pofv",
        "colab_type": "code",
        "colab": {}
      },
      "source": [
        "images, labels = shuffle(images, labels)\n"
      ],
      "execution_count": 15,
      "outputs": []
    },
    {
      "cell_type": "code",
      "metadata": {
        "id": "5rR5jBXMs5gD",
        "colab_type": "code",
        "colab": {}
      },
      "source": [
        "X_train, X_test, y_train, y_test = sklearn.model_selection.train_test_split(images, labels, test_size=0.1)"
      ],
      "execution_count": 16,
      "outputs": []
    },
    {
      "cell_type": "code",
      "metadata": {
        "id": "uGoUaPhgqd5F",
        "colab_type": "code",
        "colab": {}
      },
      "source": [
        "model=Sequential()\n",
        "\n",
        "model.add(Conv2D(200,(3,3),input_shape=[120,120,3]))\n",
        "model.add(Activation('relu'))\n",
        "model.add(MaxPooling2D(pool_size=(2,2)))\n",
        "#The first CNN layer followed by Relu and MaxPooling layers\n",
        "\n",
        "model.add(Conv2D(100,(3,3)))\n",
        "model.add(Activation('relu'))\n",
        "model.add(MaxPooling2D(pool_size=(2,2)))\n",
        "#The second convolution layer followed by Relu and MaxPooling layers\n",
        "\n",
        "model.add(Flatten())\n",
        "model.add(Dropout(0.5))\n",
        "#Flatten layer to stack the output convolutions from second convolution layer\n",
        "model.add(Dense(50,activation='relu'))\n",
        "#Dense layer of 64 neurons\n",
        "model.add(Dense(2,activation='softmax'))\n",
        "#The Final layer with two outputs for two categories\n",
        "\n",
        "model.compile(loss='categorical_crossentropy',optimizer='adam',metrics=['accuracy'])\n"
      ],
      "execution_count": 17,
      "outputs": []
    },
    {
      "cell_type": "code",
      "metadata": {
        "id": "Z3CzfKmSuZcd",
        "colab_type": "code",
        "colab": {
          "base_uri": "https://localhost:8080/",
          "height": 374
        },
        "outputId": "92dd8507-b594-4d0a-d6e8-6a3da73c4d4c"
      },
      "source": [
        "checkpoint = ModelCheckpoint('model-{epoch:03d}.model',monitor='val_loss',verbose=0,save_best_only=True,mode='auto')\n",
        "history=model.fit(X_train,y_train,epochs=10,callbacks=[checkpoint],validation_data=(X_test, y_test))"
      ],
      "execution_count": 18,
      "outputs": [
        {
          "output_type": "stream",
          "text": [
            "Train on 4699 samples, validate on 523 samples\n",
            "Epoch 1/10\n",
            "4699/4699 [==============================] - 26s 6ms/step - loss: 0.4936 - accuracy: 0.8108 - val_loss: 0.2778 - val_accuracy: 0.8910\n",
            "Epoch 2/10\n",
            "4699/4699 [==============================] - 19s 4ms/step - loss: 0.2383 - accuracy: 0.9157 - val_loss: 0.2393 - val_accuracy: 0.9140\n",
            "Epoch 3/10\n",
            "4699/4699 [==============================] - 19s 4ms/step - loss: 0.2012 - accuracy: 0.9268 - val_loss: 0.3558 - val_accuracy: 0.8451\n",
            "Epoch 4/10\n",
            "4699/4699 [==============================] - 19s 4ms/step - loss: 0.1870 - accuracy: 0.9270 - val_loss: 0.1980 - val_accuracy: 0.9254\n",
            "Epoch 5/10\n",
            "4699/4699 [==============================] - 19s 4ms/step - loss: 0.1452 - accuracy: 0.9464 - val_loss: 0.1997 - val_accuracy: 0.9293\n",
            "Epoch 6/10\n",
            "4699/4699 [==============================] - 19s 4ms/step - loss: 0.1347 - accuracy: 0.9468 - val_loss: 0.1892 - val_accuracy: 0.9388\n",
            "Epoch 7/10\n",
            "4699/4699 [==============================] - 19s 4ms/step - loss: 0.0990 - accuracy: 0.9632 - val_loss: 0.1648 - val_accuracy: 0.9446\n",
            "Epoch 8/10\n",
            "4699/4699 [==============================] - 19s 4ms/step - loss: 0.0802 - accuracy: 0.9702 - val_loss: 0.1343 - val_accuracy: 0.9618\n",
            "Epoch 9/10\n",
            "4699/4699 [==============================] - 19s 4ms/step - loss: 0.0708 - accuracy: 0.9730 - val_loss: 0.1547 - val_accuracy: 0.9484\n",
            "Epoch 10/10\n",
            "4699/4699 [==============================] - 19s 4ms/step - loss: 0.0614 - accuracy: 0.9749 - val_loss: 0.1380 - val_accuracy: 0.9675\n"
          ],
          "name": "stdout"
        }
      ]
    },
    {
      "cell_type": "code",
      "metadata": {
        "id": "thywu_F3wj-M",
        "colab_type": "code",
        "colab": {}
      },
      "source": [
        ""
      ],
      "execution_count": null,
      "outputs": []
    },
    {
      "cell_type": "code",
      "metadata": {
        "id": "3kuie2h__cPG",
        "colab_type": "code",
        "colab": {}
      },
      "source": [
        ""
      ],
      "execution_count": null,
      "outputs": []
    },
    {
      "cell_type": "code",
      "metadata": {
        "id": "FHpR11n8wuRu",
        "colab_type": "code",
        "colab": {}
      },
      "source": [
        "\n"
      ],
      "execution_count": null,
      "outputs": []
    }
  ]
}